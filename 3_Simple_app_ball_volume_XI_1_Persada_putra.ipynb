{
  "nbformat": 4,
  "nbformat_minor": 0,
  "metadata": {
    "colab": {
      "provenance": [],
      "authorship_tag": "ABX9TyNmMKIeyyhgxlqKlJ3k4dOp",
      "include_colab_link": true
    },
    "kernelspec": {
      "name": "python3",
      "display_name": "Python 3"
    },
    "language_info": {
      "name": "python"
    }
  },
  "cells": [
    {
      "cell_type": "markdown",
      "metadata": {
        "id": "view-in-github",
        "colab_type": "text"
      },
      "source": [
        "<a href=\"https://colab.research.google.com/github/persada-mahesahiti/KKAsmt1/blob/main/3_Simple_app_ball_volume_XI_1_Persada_putra.ipynb\" target=\"_parent\"><img src=\"https://colab.research.google.com/assets/colab-badge.svg\" alt=\"Open In Colab\"/></a>"
      ]
    },
    {
      "cell_type": "markdown",
      "source": [
        "#Nama: Persada putra mahesahiti\n",
        "#Kelas: XI.1\n",
        "#No absen: 30\n",
        "#Nama kelompok: Taylor Swift"
      ],
      "metadata": {
        "id": "HowinpmcggtL"
      }
    },
    {
      "cell_type": "markdown",
      "source": [
        "#Aplikasi Sederhana menghitung volume"
      ],
      "metadata": {
        "id": "QIR-l7VAgScl"
      }
    },
    {
      "cell_type": "code",
      "source": [
        "r = float(input(\"Masukkan jari-jari bola (dalam satuan cm): \"))\n",
        "pi = 3.14\n",
        "volume = (4/3) * pi * r**3\n",
        "\n",
        "print(f\"Volume bola dengan jari-jari {r} cm adalah {volume:.2f} cm³\")\n"
      ],
      "metadata": {
        "colab": {
          "base_uri": "https://localhost:8080/"
        },
        "id": "0juBcObUfyP7",
        "outputId": "0f3fb03a-7f49-4573-9d50-ca663e698bf7"
      },
      "execution_count": null,
      "outputs": [
        {
          "output_type": "stream",
          "name": "stdout",
          "text": [
            "Masukkan jari-jari bola (dalam satuan cm): 5\n",
            "Volume bola dengan jari-jari 5.0 cm adalah 523.33 cm³\n"
          ]
        }
      ]
    }
  ]
}