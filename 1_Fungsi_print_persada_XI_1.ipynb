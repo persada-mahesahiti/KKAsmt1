{
  "nbformat": 4,
  "nbformat_minor": 0,
  "metadata": {
    "colab": {
      "provenance": [],
      "authorship_tag": "ABX9TyPUXTc1MVwfDOFgwm5UEqk8",
      "include_colab_link": true
    },
    "kernelspec": {
      "name": "python3",
      "display_name": "Python 3"
    },
    "language_info": {
      "name": "python"
    }
  },
  "cells": [
    {
      "cell_type": "markdown",
      "metadata": {
        "id": "view-in-github",
        "colab_type": "text"
      },
      "source": [
        "<a href=\"https://colab.research.google.com/github/persada-mahesahiti/KKAsmt1/blob/main/1_Fungsi_print_persada_XI_1.ipynb\" target=\"_parent\"><img src=\"https://colab.research.google.com/assets/colab-badge.svg\" alt=\"Open In Colab\"/></a>"
      ]
    },
    {
      "cell_type": "markdown",
      "source": [],
      "metadata": {
        "id": "KYWbysSG_qYW"
      }
    },
    {
      "cell_type": "markdown",
      "source": [
        "#menampilkan teks bebas"
      ],
      "metadata": {
        "id": "fxjoSfBM1QcR"
      }
    },
    {
      "cell_type": "code",
      "source": [
        "print(\"halo dunia\")"
      ],
      "metadata": {
        "colab": {
          "base_uri": "https://localhost:8080/"
        },
        "id": "fcfvoFjD_9MF",
        "outputId": "8f88e765-1791-4078-a22e-d4ba0ade8e2b"
      },
      "execution_count": null,
      "outputs": [
        {
          "output_type": "stream",
          "name": "stdout",
          "text": [
            "halo dunia\n"
          ]
        }
      ]
    },
    {
      "cell_type": "code",
      "source": [
        "print(\"selamat pagi dunia\")"
      ],
      "metadata": {
        "colab": {
          "base_uri": "https://localhost:8080/"
        },
        "id": "Vf7wTLmMAGyq",
        "outputId": "84ef7368-5f23-48e6-92a9-bb2ba45968ca"
      },
      "execution_count": null,
      "outputs": [
        {
          "output_type": "stream",
          "name": "stdout",
          "text": [
            "selamat pagi dunia\n"
          ]
        }
      ]
    },
    {
      "cell_type": "markdown",
      "source": [
        "#variabel"
      ],
      "metadata": {
        "id": "g4n1i7CZA7KL"
      }
    },
    {
      "cell_type": "code",
      "source": [
        "bb = 92\n",
        "print (bb)"
      ],
      "metadata": {
        "colab": {
          "base_uri": "https://localhost:8080/"
        },
        "id": "fYI6q7bHA9nJ",
        "outputId": "43e93dac-5749-40dc-845a-d0a4c8ad2f40"
      },
      "execution_count": null,
      "outputs": [
        {
          "output_type": "stream",
          "name": "stdout",
          "text": [
            "92\n"
          ]
        }
      ]
    },
    {
      "cell_type": "code",
      "source": [
        "usia = 16\n",
        "print (usia)"
      ],
      "metadata": {
        "colab": {
          "base_uri": "https://localhost:8080/"
        },
        "id": "Ba5_fzbKEVQQ",
        "outputId": "ce65c2de-fd6e-4d32-e376-877f5ce12cf6"
      },
      "execution_count": null,
      "outputs": [
        {
          "output_type": "stream",
          "name": "stdout",
          "text": [
            "16\n"
          ]
        }
      ]
    },
    {
      "cell_type": "markdown",
      "source": [
        "#menampilkan teks bebas dan variabel"
      ],
      "metadata": {
        "id": "5S6Cb3ZqKnMF"
      }
    },
    {
      "cell_type": "code",
      "source": [
        "umur = 16\n",
        "print (f\"umur saya {umur} tahun\")"
      ],
      "metadata": {
        "colab": {
          "base_uri": "https://localhost:8080/"
        },
        "id": "FO-fPjQXKx7d",
        "outputId": "93b8cd4e-72a5-4093-c3de-26e00a1aa9d2"
      },
      "execution_count": null,
      "outputs": [
        {
          "output_type": "stream",
          "name": "stdout",
          "text": [
            "umur saya 16 tahun\n"
          ]
        }
      ]
    },
    {
      "cell_type": "code",
      "source": [
        "bb = 92\n",
        "print (f\"berat badan saya {bb} kg\")"
      ],
      "metadata": {
        "colab": {
          "base_uri": "https://localhost:8080/"
        },
        "id": "hc9KIETQLCFS",
        "outputId": "ea31feb3-b0c7-48b3-9af4-3f67e03fd14d"
      },
      "execution_count": null,
      "outputs": [
        {
          "output_type": "stream",
          "name": "stdout",
          "text": [
            "berat badan saya 92 kg\n"
          ]
        }
      ]
    },
    {
      "cell_type": "markdown",
      "source": [
        "#Escape character"
      ],
      "metadata": {
        "id": "HNyV8b0DCNdj"
      }
    },
    {
      "cell_type": "code",
      "source": [
        "print(\"nama: persada putra\")\n",
        "print(\"kelas: XI.1\")\n",
        "print(\"nomor absen: 30\")"
      ],
      "metadata": {
        "colab": {
          "base_uri": "https://localhost:8080/"
        },
        "id": "MLHowMXSJYQE",
        "outputId": "a4074afc-1338-4744-ecc8-ca421cab6425"
      },
      "execution_count": null,
      "outputs": [
        {
          "output_type": "stream",
          "name": "stdout",
          "text": [
            "nama: persada putra\n",
            "kelas: XI.1\n",
            "nomor absen: 30\n"
          ]
        }
      ]
    },
    {
      "cell_type": "code",
      "source": [
        "print(\"nama\\t\\t: Bobon\\nKelas\\t\\t: XI.1\\nNomor absen\\t: 30\")"
      ],
      "metadata": {
        "colab": {
          "base_uri": "https://localhost:8080/"
        },
        "id": "mH_iY0QpKmsx",
        "outputId": "66790a93-5654-4dc0-f8af-745321889d22"
      },
      "execution_count": null,
      "outputs": [
        {
          "output_type": "stream",
          "name": "stdout",
          "text": [
            "nama\t\t: Bobon\n",
            "Kelas\t\t: XI.1\n",
            "Nomor absen\t: 30\n"
          ]
        }
      ]
    },
    {
      "cell_type": "code",
      "source": [
        "print(\"\"\"nama: persada putra\n",
        "kelas: XI.1\n",
        "nomor absen: 30\"\"\")"
      ],
      "metadata": {
        "colab": {
          "base_uri": "https://localhost:8080/"
        },
        "id": "oVV1zm_dLB-k",
        "outputId": "8edefd91-5843-417d-bf67-aef9c11bad30"
      },
      "execution_count": null,
      "outputs": [
        {
          "output_type": "stream",
          "name": "stdout",
          "text": [
            "nama: persada putra \n",
            "kelas: XI.1\n",
            "nomor absen: 30\n"
          ]
        }
      ]
    },
    {
      "cell_type": "code",
      "source": [],
      "metadata": {
        "id": "LBd_TzAfOFvw"
      },
      "execution_count": null,
      "outputs": []
    },
    {
      "cell_type": "code",
      "source": [
        "print('ja\\'far shodiq')"
      ],
      "metadata": {
        "id": "Cmw4UxrE1pV8",
        "colab": {
          "base_uri": "https://localhost:8080/"
        },
        "outputId": "2c83ad0a-1286-4a42-aa91-0162cfc0253b"
      },
      "execution_count": null,
      "outputs": [
        {
          "output_type": "stream",
          "name": "stdout",
          "text": [
            "ja'far shodiq\n"
          ]
        }
      ]
    },
    {
      "cell_type": "code",
      "source": [
        "print(\"ja'far shodiq\")"
      ],
      "metadata": {
        "colab": {
          "base_uri": "https://localhost:8080/"
        },
        "id": "Gs05pq2SCjOj",
        "outputId": "038fb789-a4b3-4392-bdb6-ed76b1798ce9"
      },
      "execution_count": null,
      "outputs": [
        {
          "output_type": "stream",
          "name": "stdout",
          "text": [
            "ja'far shodiq\n"
          ]
        }
      ]
    },
    {
      "cell_type": "code",
      "source": [
        "print(\"bu shinta berkata, \\\"jangan lupa sholat.\\\"\")"
      ],
      "metadata": {
        "colab": {
          "base_uri": "https://localhost:8080/"
        },
        "id": "OHp4jXNgCv69",
        "outputId": "85da913b-867e-48d2-80ef-f257782d8b3b"
      },
      "execution_count": null,
      "outputs": [
        {
          "output_type": "stream",
          "name": "stdout",
          "text": [
            "bu shinta berkata, \"jangan lupa sholat.\"\n"
          ]
        }
      ]
    },
    {
      "cell_type": "code",
      "source": [
        "print('bu shinta berkata, \"silahkan minum dulu\"')"
      ],
      "metadata": {
        "colab": {
          "base_uri": "https://localhost:8080/"
        },
        "id": "zg4wdDyDDyPv",
        "outputId": "1808edcb-feac-4818-fdaa-10083d108a53"
      },
      "execution_count": null,
      "outputs": [
        {
          "output_type": "stream",
          "name": "stdout",
          "text": [
            "bu shinta berkata, \"silahkan minum dulu\"\n"
          ]
        }
      ]
    },
    {
      "cell_type": "markdown",
      "source": [
        "#Parameter fungsi print"
      ],
      "metadata": {
        "id": "Xf0RXjWiHark"
      }
    },
    {
      "cell_type": "code",
      "source": [
        "Tahun = 2008\n",
        "Bulan = \"Oktober\"\n",
        "Tanggal = 4\n",
        "\n",
        "print(Tanggal)\n",
        "print(Bulan)\n",
        "print(Tahun)"
      ],
      "metadata": {
        "colab": {
          "base_uri": "https://localhost:8080/"
        },
        "id": "Q0ku0uWxHerw",
        "outputId": "602df311-505a-4015-f937-67d3a8770d2f"
      },
      "execution_count": null,
      "outputs": [
        {
          "output_type": "stream",
          "name": "stdout",
          "text": [
            "4\n",
            "Oktober\n",
            "2008\n"
          ]
        }
      ]
    },
    {
      "cell_type": "code",
      "source": [
        "Tahun = 2008\n",
        "Bulan = \"Oktober\"\n",
        "Tanggal = 4\n",
        "\n",
        "print(Tanggal, Bulan, Tahun)"
      ],
      "metadata": {
        "colab": {
          "base_uri": "https://localhost:8080/"
        },
        "id": "735Uz4opIbuP",
        "outputId": "3e3ba51b-d3f2-4b08-eaf5-fed1fcde42d7"
      },
      "execution_count": null,
      "outputs": [
        {
          "output_type": "stream",
          "name": "stdout",
          "text": [
            "4 Oktober 2008\n"
          ]
        }
      ]
    },
    {
      "cell_type": "code",
      "source": [
        "tahun = 2008\n",
        "tanggal = 4\n",
        "bulan = \"oktober\"\n",
        "\n",
        "print(tanggal, bulan, tahun, sep=\"/\")"
      ],
      "metadata": {
        "colab": {
          "base_uri": "https://localhost:8080/"
        },
        "id": "il_1lBN1J1oy",
        "outputId": "a0b8e046-8c27-4790-e079-7e2b15dc7f6c"
      },
      "execution_count": null,
      "outputs": [
        {
          "output_type": "stream",
          "name": "stdout",
          "text": [
            "4/oktober/2008\n"
          ]
        }
      ]
    },
    {
      "cell_type": "code",
      "source": [
        "print('Bu shinta berkata, \"berikut adalah judul pelajaran hari senin selasa rabu  silahkan disimpan di laptop masing-masing di folder local disk D:\\\\Jadwal pelajaran\\\\kelas XI semester 1\"')\n",
        "\n",
        "print('JADWAL PELAJARAN MINGGUAN')\n",
        "print(\"=======================================\")\n",
        "print('jam  senin       selasa   rabu')\n",
        "print('jam1 matematika  bahasa   informatika')\n",
        "print('jam2 bahasa ing. sejarah  ma\\'rifatullah')\n",
        "print('jam3 informatika olahraga biologi')"
      ],
      "metadata": {
        "colab": {
          "base_uri": "https://localhost:8080/"
        },
        "id": "DyAh14DHMAg9",
        "outputId": "132f4dd2-136f-4172-d179-0dcf40819073"
      },
      "execution_count": null,
      "outputs": [
        {
          "output_type": "stream",
          "name": "stdout",
          "text": [
            "Bu shinta berkata, \"berikut adalah judul pelajaran hari senin selasa rabu  silahkan disimpan di laptop masing-masing di folder local disk D:\\Jadwal pelajaran\\kelas XI semester 1\"\n",
            "JADWAL PELAJARAN MINGGUAN\n",
            "=======================================\n",
            "jam  senin       selasa   rabu\n",
            "jam1 matematika  bahasa   informatika\n",
            "jam2 bahasa ing. sejarah  ma'rifatullah\n",
            "jam3 informatika olahraga biologi\n"
          ]
        }
      ]
    },
    {
      "cell_type": "code",
      "source": [
        "# Tampilkan keluaran berupa :\n",
        "# Naufal-Favian-Humaira-Favian\n",
        "# Dengan parameter sep"
      ],
      "metadata": {
        "id": "h4N1Qw0dNCBk"
      },
      "execution_count": null,
      "outputs": []
    },
    {
      "cell_type": "code",
      "source": [
        "nama_siswa_1 = \"Naufal\"\n",
        "nama_siswa_2 = \"Favian\"\n",
        "nama_siswa_3 = \"Humaira\"\n",
        "nama_siswa_4 = \"Favian\"\n",
        "\n",
        "print(nama_siswa_1, nama_siswa_2, nama_siswa_3, nama_siswa_4, sep=\"-\")"
      ],
      "metadata": {
        "colab": {
          "base_uri": "https://localhost:8080/"
        },
        "id": "dlLBH2x4GgBe",
        "outputId": "126336e8-f26c-49b3-b973-63a31e846043"
      },
      "execution_count": null,
      "outputs": [
        {
          "output_type": "stream",
          "name": "stdout",
          "text": [
            "Naufal-Favian-Humaira-Favian\n"
          ]
        }
      ]
    },
    {
      "cell_type": "code",
      "source": [
        "# Tampilkan keluaran berupa :\n",
        "# Naufal-Favian\n",
        "# Humaira-Favian\n",
        "# Dengan parameter end"
      ],
      "metadata": {
        "id": "6WPIYzrGF0Wn"
      },
      "execution_count": null,
      "outputs": []
    },
    {
      "cell_type": "code",
      "source": [
        "print(nama_siswa_1, end=\"-\")\n",
        "print(nama_siswa_2)\n",
        "print(nama_siswa_3, end=\"-\")\n",
        "print(nama_siswa_2)"
      ],
      "metadata": {
        "colab": {
          "base_uri": "https://localhost:8080/"
        },
        "id": "GUMHAUDZHVVS",
        "outputId": "071d53e8-edc3-46e3-e885-cf1835caf010"
      },
      "execution_count": null,
      "outputs": [
        {
          "output_type": "stream",
          "name": "stdout",
          "text": [
            "Naufal-Favian\n",
            "Humaira-Favian\n"
          ]
        }
      ]
    }
  ]
}